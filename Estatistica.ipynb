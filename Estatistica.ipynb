{
  "nbformat": 4,
  "nbformat_minor": 0,
  "metadata": {
    "colab": {
      "name": "Estatistica",
      "provenance": [],
      "toc_visible": true,
      "authorship_tag": "ABX9TyOl6NoaFtxX4tzvm5Q+aumu",
      "include_colab_link": true
    },
    "kernelspec": {
      "name": "python3",
      "display_name": "Python 3"
    }
  },
  "cells": [
    {
      "cell_type": "markdown",
      "metadata": {
        "id": "view-in-github",
        "colab_type": "text"
      },
      "source": [
        "<a href=\"https://colab.research.google.com/github/Tiao553/Projects_Data_Science/blob/main/Estatistica.ipynb\" target=\"_parent\"><img src=\"https://colab.research.google.com/assets/colab-badge.svg\" alt=\"Open In Colab\"/></a>"
      ]
    },
    {
      "cell_type": "markdown",
      "metadata": {
        "id": "iXmWUTV0PqEV"
      },
      "source": [
        "<center><img   src=\"https://raw.githubusercontent.com/Tiao553/Projects_Data_Science/main/img/ESTA_PROB.png\"></center>\r\n",
        "\r\n",
        "*by [Sebastião Ferreira de Paula Neto](https://github.com/Tiao553)*"
      ]
    },
    {
      "cell_type": "markdown",
      "metadata": {
        "id": "qL90gT3yN-5a"
      },
      "source": [
        "# Referências bibliograficas\r\n",
        "\r\n",
        "1. MONTGOMERY, Douglas C.; RUNGER, George C.. **Estatística aplicada e probabilidade para engenheiros.**\r\n",
        "5 ed. Rio de Janeiro: LTC, 2013.\r\n",
        "\r\n",
        "2. MAGALHÃES, Marcos Nascimento; LIMA, Antonio Carlos Pedroso de. **Noções de probabilidade e estatística.** 7 ed. São Paulo: Edusp, 2010.\r\n",
        "\r\n",
        "3. MORETTIN, Pedro Alberto; BUSSAB, Wilton de Oliveira. **Estatística básica**. 6 ed. rev. e atual. São Paulo: Saraiva, 2010."
      ]
    },
    {
      "cell_type": "markdown",
      "metadata": {
        "id": "DGdHy_ztT_rM"
      },
      "source": [
        "---\r\n",
        "# **Estatística e Probabilidade para cientistas de dados**\r\n",
        "\r\n",
        "Um cientista é aquele que **sempre questiona** e tenta gerar conclusões em cima destes questionamentos. Se alinharmos dados a esta característica possa  concluir que estes profissionais gerar conclusões em cima de dados. Está aí uma primeira conclusão!\r\n",
        "\r\n",
        "Uma das suas principais ferramentas é a estatística e a probabilidade, mas você o que seria estas duas?\r\n",
        "\r\n",
        "\r\n",
        "\r\n",
        "> **Estatística** é a ciência que se utiliza nas teorias probabilísticas para explicar a **frequência da ocorrência de eventos**, tanto em estudos observacionais quanto em experimentos para **modelar a aleatoriedade e a incerteza** de forma a estimar ou possibilitar a previsão de fenômenos futuros.\r\n",
        "\r\n",
        "> **Probabilidade** é o **estudo sobre experimentos** que, mesmo realizados em condições bastante parecidas, apresentam resultados que **não são possíveis de prever.**\r\n",
        "\r\n",
        "Se analisarmos a definição de maneira direta ja consiguimos ver o poder dessas duas ferramentas, mas caso isso não tenha ficado claro vamos exemplificar em alguns exemplos de aplicações ao qual os cientistas de dados utilizam:\r\n",
        "\r\n",
        "1. Projetar e interpretar experimentos para suportar a tomada de decisões.\r\n",
        "2. Construir modelos que possam prever sinal, não ruído.\r\n",
        "3. Entender o engajamento, a retenção, a conversão e os leads dos usuários.\r\n",
        "4. Contar a história com os dados, inclusive ja sugiro este seguinte livro para uso, compra no [link](https://amzn.to/2MSLhtf).\r\n",
        "\r\n",
        "**Neste notebook, iremos demonstrar formas como utilizar a estatéstica e a probabilidade para gerar melhores conclusões sobre os fenômenos analisados.**\r\n",
        "\r\n",
        "**Vale ressaltar que este notebook também é basicamente um bloco de anotações**\r\n"
      ]
    },
    {
      "cell_type": "markdown",
      "metadata": {
        "id": "W3O1s90ck8Fb"
      },
      "source": [
        "---\r\n",
        "# Metodologia\r\n",
        "\r\n",
        "Primeiramente não é desejado nenhum conhecimento prévio. **Para melhor entendimento deste notebook** ele segue como bloco de anotação com algumas informações a mais do curso da [Khan Academy](https://pt.khanacademy.org/math/statistics-probability).\r\n",
        "\r\n",
        "Onde seguiremos **a seguinte cronológia:**\r\n",
        "* **Capítulo 1:** Variaveis;\r\n",
        "* **Capítulo 2:** Métricas para dados quantitativos;\r\n",
        "* **Capítulo 3**: Modelagem de distribuição de Dados;\r\n",
        "* **Capítulo 4:** Como explorar dados numéricos bivariados;\r\n",
        "* **Capítulo 5:** Modelos de Estudo;\r\n",
        "* **Capítulo 6:** Probabilidade;\r\n",
        "* **Capítulo 7:** Variaveis aleatórias;\r\n",
        "* **Capítulo 8:** Distribuição de Amostragem;\r\n",
        "* **Capítulo 9:** Intervalo de confiança;\r\n",
        "* **Capítulo 10:** Testes de significância (teste de hipótese);\r\n",
        "* **Capítulo 11:**Inferência para dados categóricos (testes qui-quadrado);\r\n",
        "* **Capítulo 12:** Inferência de duas amostras para a diferença entre grupos;\r\n",
        "* **Capítulo 13:** Regressão Avançada;\r\n",
        "* **Capítulo 14:** Análise de variância;"
      ]
    },
    {
      "cell_type": "markdown",
      "metadata": {
        "id": "T3q-Iup5lC5U"
      },
      "source": [
        "---\r\n",
        "# **Capítulo 1: Variaveis**\r\n",
        "Uma variável  é **uma característica que admite diferentes valores** (um valor ou uma classificação). E elas são divididas em duas vertentes:\r\n",
        "\r\n",
        "<center><img width=\"86%\"  src=\"https://raw.githubusercontent.com/Tiao553/Projects_Data_Science/main/img/Variaveis.png\"></center>\r\n",
        "\r\n",
        "Neste primeiro capítulo vamos abordar as variaveis qualitativas, em seguida vamos abordar as variaveis quantitativas continuas e por fim as discretas.\r\n"
      ]
    },
    {
      "cell_type": "markdown",
      "metadata": {
        "id": "41gr1mV377uk"
      },
      "source": [
        "## Variáveis qualitativas\r\n",
        "São variáveis que desejam formar grupos de forma qualitativa e é **contável o número de variáveis.** Importância de identificar o individuo em estudo, pois indica o qual variável deve ser seu foco no estudo. Em muito dos casos é utilizada **separar os dados em dada classificação.** Para análises numéricas é feita uma conversão desta em variáveis *Dummy* onde quantifica seja em forma ordinal ou sacrificatória de acordo com a distribuição das classificações.\r\n",
        "\r\n"
      ]
    },
    {
      "cell_type": "markdown",
      "metadata": {
        "id": "D5LPCJKHlRzE"
      },
      "source": [
        "---\r\n",
        "# **Capítulo 2: Métricas para dados quantitativos**\r\n",
        "Aqui se inicia a estatística onde vamos dividi-la **em descritiva** que corresponde a forma de **informar os dados sem mostra-los** por meio de valores. Como também a **estatística inferencial** que vamos **discorrer os dados pela sua distribuição.**\r\n",
        "\r\n",
        "Para isso precisamos mostrar as principais metricas para strabalhar com variaveis númeiricas contínuas:\r\n",
        "*  Média;\r\n",
        "*  Intervalo, Variância e Desvio Padrão de uma população;\r\n",
        "*  Intervalo, Variância e Desvio Padrão de uma amostra;\r\n",
        "\r\n",
        "*  Diagrama de caixas (BOXPLOT);"
      ]
    },
    {
      "cell_type": "markdown",
      "metadata": {
        "id": "fKgNBNAU28xl"
      },
      "source": [
        "## Média\r\n",
        "Como significado podemos entende-la por meio de uma tendência central e ela pode ser **aritmética** (“soma de todos fatores e dividir pelo número de elementos”) e também a **Mediana**(“valor médio”).\r\n",
        "$$\r\n",
        "    \\upsilon = \\dfrac{1}{n}\\cdot \\sum_{i=1}^{n}{x_i}{}\r\n",
        "$$\r\n",
        "Quando trabalhamos com média um  grnade cuidado que devemos ter é a presença dos outliers (*valores destoantes dos outros*) **é mais eficiente usar a mediana como referência** pois demonstra a media de forma mais correta. Uma vez que os **outliers irão levar a média aritmética a um valor muito maior.**\r\n",
        "\r\n",
        "#**Como determinamos os outliers em um conjuto de dados?**\r\n",
        "Primeiramente é de grande relevância identificar o intervalo entre quartil. Por meio desse intervalo você terá já uma ideia se há ou não outliers. Mas sendo mais criterioso, vamos despor um método para melhor avalição que consiste em:\r\n",
        "*\tIdentificar o valor do intervalo entre quartil (FIQ), onde $FIQ = Q_3 - Q_1$.\r\n",
        "*\tOs outliers inferiores serão aqueles que $Outliers < Q_{1} - 1.5\\cdot FIQ$ ;\r\n",
        "*\tOs outliers superiores serão aqueles que  $Outliers> Q_{3} + 1.5\\cdot FIQ$ ;\r\n",
        "\r\n",
        "Onde os valores de $Q_1$ e $Q_3$ são referentes aos percetis de 25% e 75% . \r\n",
        "\r\n"
      ]
    },
    {
      "cell_type": "markdown",
      "metadata": {
        "id": "inSmVAmLXXLs"
      },
      "source": [
        "### Mediana e percetis\r\n",
        "A **mediana** é o valor que se encontra ao meio da indexação dos dados ordenados. E isso é importante pois caso os dados tenham outliers ele não se altera. Ou seja, **ele é robusto a outlier**s e é um bom indicador. \r\n",
        "\r\n",
        "Os **Quartis** basicamente são as **medianas da mediana**. Sendo assim se o valor da mediana corresponde ao valor de 50% os **Quartis** são os valores correspondentes a 25% e 75% contando o da mediana também, tendo assim $Q_1 , Q_2$ e  $Q_3$. O **percenti** basicamente seria os dados dividos $n$ vezes."
      ]
    },
    {
      "cell_type": "markdown",
      "metadata": {
        "id": "c5lbPPJ73UmD"
      },
      "source": [
        "## Diagrama de caixas (BOXPLOT)\r\n",
        "\r\n",
        "Uma boa aplicação de mediana e quartil são os diagramas de caixas. **As pontas do gráfico** são os menores valores encontrados no conjunto de dados e **as pontas da caixa** são os percentis de 25% e 75%. Dessa forma é como podemos detalhar de forma simples e direta como é disposto um BOXPLOT.\r\n",
        "\r\n",
        "Como exemplo:"
      ]
    },
    {
      "cell_type": "code",
      "metadata": {
        "colab": {
          "base_uri": "https://localhost:8080/",
          "height": 143
        },
        "cellView": "form",
        "id": "Jz_QORwO3GGl",
        "outputId": "da3bccdb-1221-42ad-f577-d8ebde225753"
      },
      "source": [
        "#@title Com uso do python geramos um exemplo de boxplot\r\n",
        "import seaborn as sns\r\n",
        "import matplotlib.pyplot as plt\r\n",
        "import pandas as pd\r\n",
        "\r\n",
        "#   Inicio os dados de forma aleatoria\r\n",
        "Conjunto_de_dados = [1,1,2,8,10,11,14,15,2,22,3,3,4,4,6,7,20]\r\n",
        "\r\n",
        "#   Passo para o formato para gerar o bloxplot\r\n",
        "X = pd.Series(Conjunto_de_dados)\r\n",
        "\r\n",
        "plt.figure(figsize=(8,1.5))\r\n",
        "sns.boxplot(x=X, palette=\"viridis\")\r\n",
        "plt.xlabel('Valores gerado')\r\n",
        "plt.show()"
      ],
      "execution_count": null,
      "outputs": [
        {
          "output_type": "display_data",
          "data": {
            "image/png": "[encoded data removed]",
            "text/plain": [
              "<Figure size 576x108 with 1 Axes>"
            ]
          },
          "metadata": {
            "tags": [],
            "needs_background": "light"
          }
        }
      ]
    },
    {
      "cell_type": "markdown",
      "metadata": {
        "id": "QY5Q3qwT5vXX"
      },
      "source": [
        "**Deixo uma reflexão sobre este gráfico: Ele contém algum outlier? justifique**"
      ]
    },
    {
      "cell_type": "markdown",
      "metadata": {
        "id": "MFjHQbUL3Bsz"
      },
      "source": [
        "## Intervalo, Variância e Desvio Padrão de uma população\r\n",
        "O **Intervalo** é todo espaçoa amostral al qual os dados estão dispostos. Ele é importante pois com ele é possivel medir o qual o disperso estão os dados. Para isso utilizamos a **variância** e o **desvio padrão**.\r\n",
        "\r\n",
        "### **Variância populacional**\r\n",
        "A variância é um indicador do quanto os dados estão dispersos, a equação utilizada se encontra abaixo: \r\n",
        "$$\r\n",
        "\\sigma ^2 = \\frac{1}{n}\\sum_{i=1}^{n}(x_i -\\upsilon) ^ 2\r\n",
        "$$\r\n",
        "\r\n",
        "### Desvio padrão populacional\r\n",
        "O desvio padrão mensura a dispersão dos dados, para isso basta calcularmos:\r\n",
        "$$\r\n",
        "\\sigma = \\sqrt{\\sigma ^ 2}\r\n",
        "$$\r\n",
        "\r\n",
        "Para entendermos de forma mais direta, temos o seguite gráfico onde estes apresentam a mesma média, mas variam o seu desvio padrão.\r\n",
        "\r\n",
        "<center><img src=\"https://upload.wikimedia.org/wikipedia/commons/thumb/f/f9/Comparison_standard_deviations.svg/400px-Comparison_standard_deviations.svg.png\"></center>"
      ]
    },
    {
      "cell_type": "markdown",
      "metadata": {
        "id": "RTGWxnQB3MAD"
      },
      "source": [
        "## Intervalo, Variância e Desvio Padrão de uma amostra\r\n",
        "**Vocês devem estar: \" *Mas o que iria variar de um caso populacioal para um amostral?* \"** \r\n",
        "\r\n",
        "Antes de entrarmos neste assunto é de eximia importância entender o que seria uma amostra. Para entendermos uma amostra basta pegarmos um dado com milhões e milhões de dados, quando se fala em amostra é pegar uma parte do todo e tentar acharmos valores contidos no todo de forma a tentar representar o todo.\r\n",
        "\r\n",
        "No caso amostral, que é o mais usado, pois este representa de forma mais correta o modelo e converge na maioria dos casos aos valores. As formulas iram se alterar assim como a ideia.\r\n",
        "\r\n",
        "**Ficou confuso? Vamos a um exemplo:**\r\n",
        "\r\n",
        "> Em uma pesquisa realizada foram perguntadas quantas horas por dia os entrevistados assistiam televisão, dessa forma temos:\r\n",
        "\r\n",
        "<center><img width = \"70%\"src=\"https://raw.githubusercontent.com/Tiao553/Projects_Data_Science/main/img/TV.png\"></center>\r\n",
        "\r\n",
        "Mas você poderia olhar e pensar: “*Mas esta amostra não representa o todo*”.\r\n",
        "\r\n",
        "**Você não está errado**, mas é preciso tomarmos alguns cuidados quando avaliamos desta forma. No entanto vamos mostrar como realizar estes cálculos de maneira correta.\r\n",
        "\r\n",
        "Inicialmente, vamos tomar a variância amostral com o numero de termos reduzido em 1 casa de forma a tentar aproximar do valor real, assim temos:\r\n",
        "\r\n",
        "$$\\sigma^2 = S^2 = \\frac{1}{n-1}\\sum_{i=1}^{n}(x_i - \\overline{x}) ^ 2$$\r\n",
        "\r\n",
        "Onde o $\\overline{x}$ representa a média aritímetica dos dados e $S^2$ a variancia amostral. O desvio padrão como ele é não linear para o calculo do valor populacional não se atua desta forma, logo ele se acopla muito aos dados se tornando viciado logo não é adequado aí usamos a variância como estimador.\r\n",
        "\r\n",
        "\r\n",
        "\r\n",
        "\r\n",
        "\r\n"
      ]
    },
    {
      "cell_type": "markdown",
      "metadata": {
        "id": "hLY4zPhVaa85"
      },
      "source": [
        "### **Mas porque utilizar $n-1$ ?**\r\n",
        "\r\n",
        "Existem algumas formas de explicar, mas acredito que uma que você vizualize possa ajudar de forma mais concreta. Para isso irei pedir que vocÊ acessa a seguinte simulação [Link](http://www.khanacademy.org/cs/unbiased-variance-visualization/1167453164).\r\n",
        "\r\n",
        "Neste caso ele mostra como a variaci se comporta quando se vai adicionando dados para o caso com $n$, $n-1$ e $n-2$. Outra análise contida nessa simulação é para identificar se o dado estar viciado ou superamostrado. \r\n",
        "\r\n",
        "\r\n",
        "Para se identificar isso é nessário verificar o grafico de média por variância. No caso com $n$ ele tem uma apresentação viciada, para o caso $n-1$ ele se apresenta representante ao modelo da distribuição e para o caso $n-2$ ele é mostrado como superamostrado.\r\n",
        "\r\n",
        "\r\n",
        "Como atividade peço para fazer essas análise para a smiulação contida no [Link](http://www.khanacademy.org/cs/challenge-unbiased-estimate-of-population-variance/1169428428). Como também um exercício interativo para visualizar as diferenças entre as relações **populacional Vs amostral**.\r\n",
        "\r\n"
      ]
    },
    {
      "cell_type": "code",
      "metadata": {
        "id": "zIE_cQTqyaGm",
        "cellView": "form"
      },
      "source": [
        "#@title Entre com os dados\r\n",
        "\r\n",
        "a = []\r\n",
        "print(\"Caso deseje encerrar a entrada de dados aperte n; \")\r\n",
        "print(\"para resetar a entrada aperte R\")\r\n",
        "k = input(\"Entre: \")\r\n",
        "\r\n",
        "while True:\r\n",
        "  if ((k == 'n') or (k == 'N')):\r\n",
        "    break\r\n",
        "\r\n",
        "  elif ((k == 'R') or (k == 'r')):\r\n",
        "    a = []\r\n",
        "\r\n",
        "  else:\r\n",
        "    a.append(float(k))\r\n",
        "\r\n",
        "  k = input(\"Entre: \")\r\n",
        "  \r\n",
        "print(f\"A lista de entrada: {a}\")"
      ],
      "execution_count": null,
      "outputs": []
    },
    {
      "cell_type": "code",
      "metadata": {
        "id": "1cfMpfO2s1vV",
        "cellView": "form"
      },
      "source": [
        "#@title Calculando a media Aritimética, Variância e Desvio padrão\r\n",
        "#   Iniciamos um conjunto de dados e uma variavel de apoio\r\n",
        "size = len(a)\r\n",
        "\r\n",
        "#calcular a média aritimetica\r\n",
        "u = sum(a)/(size)\r\n",
        "print(\"Média: \" , u)\r\n",
        "\r\n",
        "#   Calulamos o desvio padrão por meio da formula resumida\r\n",
        "h=0\r\n",
        "for i in a:\r\n",
        "  h += (i-u)**2 \r\n",
        "\r\n",
        "std_p = (h/(size))**0.5\r\n",
        "sig_p = (h/(size))\r\n",
        "print(f\"\\nVariância populacional: {sig_p} \")\r\n",
        "print(f\"STD populacional: {std_p} \")\r\n",
        "\r\n",
        "std_a = (h/(size-1))**0.5\r\n",
        "sig_a = (h/(size-1))\r\n",
        "print(f\"\\nVariância amostral: {sig_a} \")\r\n",
        "print(f\"STD amostral: {std_a} \")"
      ],
      "execution_count": null,
      "outputs": []
    },
    {
      "cell_type": "code",
      "metadata": {
        "id": "cGwWo8jAANNs",
        "cellView": "form"
      },
      "source": [
        "#@title Agora verifique o valor direto da biblioteca utilizada nos trabalhos com Data Science\r\n",
        "import pandas as pd\r\n",
        "x = pd.Series(a)\r\n",
        "print(f\"valor do STD no pandas: {x.std()}\")"
      ],
      "execution_count": null,
      "outputs": []
    },
    {
      "cell_type": "markdown",
      "metadata": {
        "id": "pnczj7B33c_T"
      },
      "source": [
        "**Pode-se observar que por meio da biblioteca utiliza na ciência de dados o desvio padrão tomado para uso é o amostral.**"
      ]
    },
    {
      "cell_type": "markdown",
      "metadata": {
        "id": "WjNqh6VAldWN"
      },
      "source": [
        "---\r\n",
        "# **Capítulo 3: Modelagem de distribuição de Dados**\r\n",
        "\r\n",
        "Neste estágio vamos mostrar uma das **formas ativas** de se trabalhar com as metricas estatisticas para variaveis quantitativas contínuas.\r\n",
        "\r\n",
        "Para isso vamos demostrar a **distribuição gaussiana ou normal** que é uma das mais usadas pelo fato da sua alta aplicabilidade.\r\n",
        "\r\n",
        "Dessa forma, antes de começarmos, precisamos identificar dois tópicos:\r\n",
        "\r\n"
      ]
    },
    {
      "cell_type": "markdown",
      "metadata": {
        "id": "p1Ou38JNf07I"
      },
      "source": [
        "## Índice Z\r\n",
        "\r\n",
        "O índice basicamente é uma indexação inteira de cada passo, tanto para esquerda(negativamente) quanto para direita(positivamente), do desvio padrão centrado à média. e para calcularmos esse índice usamos a seguinte fórmula:\r\n",
        "$$\r\n",
        "    Z = \\dfrac{x-\\mu}{\\sigma}\r\n",
        "  \r\n",
        "$$\r\n",
        "\r\n",
        "Onde $x$ é o ponto aonde deseja encontra o valor de $Z$, $\\mu$ é a média aritímetica e $\\sigma$ o desvio padrão."
      ]
    },
    {
      "cell_type": "markdown",
      "metadata": {
        "id": "1L7zqgvBfxlp"
      },
      "source": [
        "## Curvas de Densidade\r\n",
        "As curvas de densidade descrevem o padrão geral de uma distribuição. A área sob a curva e acima de qualquer intervalo de valores é a proporção de todas as observações que se enquadram naquele intervalo. **Uma forma de analisar é como uma formação de histogramas milimétricos que avaliam em uma pequena porcentagem de valores.** Para identificar o valor em porcentagem total de eventos basta realizar o cálculo da área proposta.\r\n",
        "\r\n",
        "<center><img width = \"70%\"src=\"https://raw.githubusercontent.com/Tiao553/Projects_Data_Science/main/img/Curvas_de_densidade.png\"></center>\r\n",
        "\r\n",
        "A **mediana** em curvas de densidade é quando se **encontra a divisão das áreas igualmente** na curva. Já a **média** precisamos fazer uma a**valição ponderada dado os valores em x.**\r\n",
        "\r\n",
        "\r\n"
      ]
    },
    {
      "cell_type": "markdown",
      "metadata": {
        "id": "_GTaF7uihvth"
      },
      "source": [
        "## Distribuição normal\r\n",
        "Em probabilidade e estatística, a distribuição normal é uma das distribuições de probabilidade mais utilizadas para modelar fenômenos naturais. Isso se deve ao fato de que um grande número de fenômenos naturais apresenta sua distribuição de probabilidade **tão proximamente normal, que a ela pode ser com sucesso referida, e, portanto, com adequado acerto por ela representada como se normal fosse.** A distribuição normal é ligada a vários conceitos matemáticos como movimento browniano, ruído branco, entre outros. Como representação temos um formato de um sino enão necessariamente precisa ser centrada em $0$.\r\n",
        "\r\n",
        "<center><img width = \"45%\"src=\"https://upload.wikimedia.org/wikipedia/commons/thumb/7/74/Normal_Distribution_PDF.svg/435px-Normal_Distribution_PDF.svg.png\"></center>\r\n",
        "\r\n",
        "As formas empíricas é forma como os dados são dispostos **garantido que para qualquer valor seja da média ou desvio padrão a distribuição normal nos garante**. Onde o índice $Z$ com um passo $\\sigma =\t\\pm 1$ encontramos 68% dos dados, $\\sigma =\t\\pm 2$  pega 95% porcento dos dados e $\\sigma =\t\\pm 3$ pega 99,7% dos dados. Para exemplificar melhor adicionamos a seguinte imagem abaixo: \r\n",
        "\r\n",
        "<center><img width = \"40%\"src=\"https://upload.wikimedia.org/wikipedia/commons/thumb/1/1a/Boxplot_vs_PDF.svg/330px-Boxplot_vs_PDF.svg.png\"></center>"
      ]
    },
    {
      "cell_type": "markdown",
      "metadata": {
        "id": "BfhSu4O_jyax"
      },
      "source": [
        "### **Mas como utilizar a distribuição normal?**\r\n",
        "\r\n",
        "A aplicação fica contida por meio de uma tabela, já que o comportamento é constante os valores de Z também. Assim paraca cada valor de $Z$ é possível identificar a porcentagem contida na área da distribuição normal.\r\n",
        "\r\n",
        "A tabela completa para distribuição normal padrão encontra-se no [Link](http://wiki.icmc.usp.br/images/f/f9/Tabela_Normal.pdf).\r\n",
        "\r\n",
        "# **Mas afinal, Como utilizar?**\r\n",
        "\r\n",
        "1. Primeiramente você deve encontrar ou ser informado os valores de $\\mu$ e de $\\sigma$ que **são os valores da média e desvio padrão** respectivamente.\r\n",
        "2. Encontra o índice $Z$.\r\n",
        "3. localizar na tabela a **porcentagem da area **do valor de Z.\r\n",
        "4. Para fins de calculos **toda área equivale a 1.**\r\n",
        "\r\n"
      ]
    },
    {
      "cell_type": "markdown",
      "metadata": {
        "id": "tmNW_nwGqYCE"
      },
      "source": [
        "\r\n",
        "\r\n",
        "**Não entendeu?** \r\n",
        "\r\n",
        "Vamos supor que o valor de $Z$ seja $1,13$  o valor da porcentagem encontra-se destacado na imagem abaixo:\r\n",
        "\r\n",
        "<center><img width = \"50%\"src=\"https://estatistica.b-cdn.net/wp-content/uploads/brizy/11/assets/images/iW=1170&iH=1339&oX=0&oY=0&cW=1170&cH=1339/distribui%C3%A7%C3%A3o_normal.png\"></center>\r\n",
        "\r\n",
        "\r\n",
        "> Vamos a um exemplo:"
      ]
    },
    {
      "cell_type": "code",
      "metadata": {
        "colab": {
          "base_uri": "https://localhost:8080/"
        },
        "id": "v9RpV9q9pJds",
        "cellView": "form",
        "outputId": "290faec3-7f02-4273-f1e1-eadbb96442aa"
      },
      "source": [
        "#@title Entre com os valores de média e desvio padrão:\r\n",
        "M = float(input('Entre com o valor da média: '))\r\n",
        "DP = float(input('Entre com o valor do desvio padrão: '))"
      ],
      "execution_count": null,
      "outputs": [
        {
          "output_type": "stream",
          "text": [
            "Entre com o valor da média: 3000\n",
            "Entre com o valor do desvio padrão: 89\n"
          ],
          "name": "stdout"
        }
      ]
    },
    {
      "cell_type": "code",
      "metadata": {
        "colab": {
          "base_uri": "https://localhost:8080/"
        },
        "id": "3zgROxByplzU",
        "cellView": "form",
        "outputId": "430763c3-5ca0-445d-8a89-4e8c5f48c337"
      },
      "source": [
        "#@title Calculando o valor de Z\r\n",
        "X = float(input('Qual o ponto em destaque para encontrar o valor em %: '))\r\n",
        "z = (X-M)/DP\r\n",
        "print(f'O valor de Z: {z}')"
      ],
      "execution_count": null,
      "outputs": [
        {
          "output_type": "stream",
          "text": [
            "Qual o ponto em destaque para encontrar o valor em %: 2870\n",
            "O valor de Z: -1.4606741573033708\n"
          ],
          "name": "stdout"
        }
      ]
    },
    {
      "cell_type": "code",
      "metadata": {
        "id": "99Xbem4lrgC9",
        "colab": {
          "base_uri": "https://localhost:8080/",
          "height": 427
        },
        "cellView": "form",
        "outputId": "f310fd0c-b49f-4c7c-ebc6-7c1b73e3ffa1"
      },
      "source": [
        "#@title Plotando a curva da normal dado o Z requesitado\r\n",
        "\r\n",
        "# Importações para gerar o gráfico\r\n",
        "import numpy as np\r\n",
        "import matplotlib.pyplot as plt\r\n",
        "from scipy.stats import norm\r\n",
        "\r\n",
        "#   Inicializando os limites do plot\r\n",
        "#   Vale resaltar que o X deve ser em relação ao desvio padrão\r\n",
        "x = np.arange(-10.001, z, 0.001)\r\n",
        "x_all = np.arange(-10, 10, 0.001)\r\n",
        "\r\n",
        "y = norm.pdf(x,0,1)\r\n",
        "y2 = norm.pdf(x_all,0,1)\r\n",
        "\r\n",
        "#   Plotando\r\n",
        "fig, ax = plt.subplots(figsize=(9,6))\r\n",
        "plt.style.use('seaborn')\r\n",
        "ax.plot(x_all,y2)\r\n",
        "\r\n",
        "ax.fill_between(x,y,0, alpha=0.6, color='black')\r\n",
        "ax.fill_between(x_all,y2,0, alpha=0.1)\r\n",
        "ax.set_xlim([-5,5])\r\n",
        "ax.set_xlabel('Passos do desvio padrão')\r\n",
        "ax.set_yticklabels([])\r\n",
        "ax.set_title('Curva da distribuição normal')\r\n",
        "plt.show()\r\n",
        "\r\n",
        "\r\n"
      ],
      "execution_count": null,
      "outputs": [
        {
          "output_type": "display_data",
          "data": {
            "image/png": "[encoded data removed]",
            "text/plain": [
              "<Figure size 648x432 with 1 Axes>"
            ]
          },
          "metadata": {
            "tags": []
          }
        }
      ]
    },
    {
      "cell_type": "markdown",
      "metadata": {
        "id": "TfEfPUZYyqFd"
      },
      "source": [
        "**A area destacada é a porcentagem encontrada na tabela.**"
      ]
    },
    {
      "cell_type": "code",
      "metadata": {
        "id": "rM76BP-7NFFx",
        "colab": {
          "base_uri": "https://localhost:8080/",
          "height": 412
        },
        "cellView": "form",
        "outputId": "a5ddd451-6300-42e6-cce7-e3dd7b10b010"
      },
      "source": [
        "#@title Plot avançado\r\n",
        "#   Importações\r\n",
        "from random import seed,randint,random\r\n",
        "import numpy as np\r\n",
        "import matplotlib.pyplot as plt\r\n",
        "import seaborn as sns\r\n",
        "import math\r\n",
        "\r\n",
        "#   Iniciando a função da distribuição normal\r\n",
        "L_inf = int(M - (DP*5))\r\n",
        "L_sup = int(M + (DP*5))\r\n",
        "x = np.linspace(L_inf,L_sup,1000)\r\n",
        "f = (1.0/(DP*np.sqrt(2.0*math.pi)))*np.exp(-0.5*((x-M)/DP)**2.0)\r\n",
        "\r\n",
        "#   indentifcando a area a ser colorida\r\n",
        "x_color = []\r\n",
        "for i in x:\r\n",
        "  if int(i) == int(X):\r\n",
        "    break\r\n",
        "  x_color.append(i)\r\n",
        "x_color = np.asarray(x_color)\r\n",
        "f_color = (1.0/(DP*np.sqrt(2.0*math.pi)))*np.exp(-0.5*((x_color-M)/DP)**2.0)\r\n",
        "\r\n",
        "\r\n",
        "#   Plotagem\r\n",
        "plt.figure(figsize=(9,6))\r\n",
        "plt.style.use('seaborn')\r\n",
        "plt.plot(x,f,label=r'$\\sigma$='+str(DP))\r\n",
        "plt.fill_between(x_color,f_color,0, alpha=0.5, color='b')\r\n",
        "plt.xlabel('x')\r\n",
        "plt.ylabel('f(x)')\r\n",
        "plt.show()\r\n"
      ],
      "execution_count": null,
      "outputs": [
        {
          "output_type": "display_data",
          "data": {
            "image/png": "[encoded data removed]",
            "text/plain": [
              "<Figure size 648x432 with 1 Axes>"
            ]
          },
          "metadata": {
            "tags": []
          }
        }
      ]
    },
    {
      "cell_type": "markdown",
      "metadata": {
        "id": "rxVSwcHtlmXU"
      },
      "source": [
        "---\r\n",
        "# **Capítulo 4: Como explorar dados numéricos bivariados**"
      ]
    },
    {
      "cell_type": "markdown",
      "metadata": {
        "id": "lvBxOrQAne6r"
      },
      "source": [
        "---\r\n",
        "# **Capítulo 5: Modelos de Estudo**"
      ]
    },
    {
      "cell_type": "markdown",
      "metadata": {
        "id": "kfDh0uZPnlFa"
      },
      "source": [
        "---\r\n",
        "# **Capítulo 6: Probabilidade**"
      ]
    },
    {
      "cell_type": "markdown",
      "metadata": {
        "id": "vF3yjpVOnrcS"
      },
      "source": [
        "---\r\n",
        "# **Capítulo 7: Variaveis aleatórias**"
      ]
    },
    {
      "cell_type": "markdown",
      "metadata": {
        "id": "F2kqRQOLny7B"
      },
      "source": [
        "---\r\n",
        "# **Capítulo 8: Distribuição de Amostragem**"
      ]
    },
    {
      "cell_type": "markdown",
      "metadata": {
        "id": "nF8EnwMVn7Ka"
      },
      "source": [
        "---\r\n",
        "# **Capítulo 9: Intervalo de confiança**"
      ]
    },
    {
      "cell_type": "markdown",
      "metadata": {
        "id": "g4YpzmoUoDSa"
      },
      "source": [
        "---\r\n",
        "# **Capítulo 10: Testes de significância (teste de hipótese)**"
      ]
    },
    {
      "cell_type": "markdown",
      "metadata": {
        "id": "jOOJQKlToS7U"
      },
      "source": [
        "---\r\n",
        "# **Capítulo 11: Inferência para dados categóricos (testes qui-quadrado)**"
      ]
    },
    {
      "cell_type": "markdown",
      "metadata": {
        "id": "kppf7H9mohq6"
      },
      "source": [
        "---\r\n",
        "# **Capítulo 12: Inferência de duas amostras para a diferença entre grupos**\r\n",
        "\r\n"
      ]
    },
    {
      "cell_type": "markdown",
      "metadata": {
        "id": "z5jf6OZ7o0f7"
      },
      "source": [
        "---\r\n",
        "# **Capítulo 13: Regressão Avançada**"
      ]
    },
    {
      "cell_type": "markdown",
      "metadata": {
        "id": "A84xhNidpEDy"
      },
      "source": [
        "---\r\n",
        "# **Capítulo 14: Análise de variância**"
      ]
    },
    {
      "cell_type": "code",
      "metadata": {
        "id": "dWUHBLkFpJ0j"
      },
      "source": [
        ""
      ],
      "execution_count": null,
      "outputs": []
    }
  ]
}